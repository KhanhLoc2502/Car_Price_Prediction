{
 "cells": [
  {
   "cell_type": "code",
   "execution_count": 34,
   "metadata": {},
   "outputs": [
    {
     "name": "stdout",
     "output_type": "stream",
     "text": [
      "(3738, 23)\n"
     ]
    }
   ],
   "source": [
    "import pandas as pd\n",
    "import numpy as np\n",
    "from sklearn.preprocessing import LabelEncoder, StandardScaler\n",
    "from sklearn.model_selection import train_test_split\n",
    "from sklearn.ensemble import BaggingRegressor\n",
    "from sklearn.tree import DecisionTreeRegressor\n",
    "# Đọc dữ liệu từ file\n",
    "data = pd.read_excel('data.xlsx',index_col=0)\n",
    "data = data.dropna()\n",
    "print(data.shape)"
   ]
  },
  {
   "cell_type": "code",
   "execution_count": 35,
   "metadata": {},
   "outputs": [],
   "source": [
    "le = LabelEncoder()\n",
    "data['Hãng xe'] = le.fit_transform(data['Hãng xe'])\n",
    "data['Tên xe'] = le.fit_transform(data['Tên xe'])\n",
    "data['Loại xe'] = le.fit_transform(data['Loại xe'])\n",
    "data['Năm SX'] = le.fit_transform(data['Năm SX'])\n",
    "data['Xuất xứ'] = le.fit_transform(data['Xuất xứ'])\n",
    "data['Tỉnh thành'] = le.fit_transform(data['Tỉnh thành'])\n",
    "data['Quận huyện'] = le.fit_transform(data['Quận huyện'])\n",
    "data['Km đã đi'] = le.fit_transform(data['Km đã đi'])\n",
    "data['Tình trạng'] = le.fit_transform(data['Tình trạng'])\n",
    "data['Nhiên liệu'] = le.fit_transform(data['Nhiên liệu'])\n",
    "data['Kiểu dáng'] = le.fit_transform(data['Kiểu dáng'])\n",
    "data['Hộp số'] = le.fit_transform(data['Hộp số'])"
   ]
  },
  {
   "cell_type": "code",
   "execution_count": 36,
   "metadata": {},
   "outputs": [],
   "source": [
    "scaler = StandardScaler()\n",
    "X = data[['Hãng xe','Tên xe', 'Loại xe','Năm SX','Xuất xứ','Tỉnh thành','Quận huyện','Km đã đi', 'Tình trạng', 'Nhiên liệu', 'Kiểu dáng', 'Hộp số']]\n",
    "y = data['Đơn giá']\n",
    "X = scaler.fit_transform(X)"
   ]
  },
  {
   "cell_type": "code",
   "execution_count": 47,
   "metadata": {},
   "outputs": [],
   "source": [
    "X_train, X_test, y_train, y_test = train_test_split(X, y, test_size=0.2, random_state=42)"
   ]
  },
  {
   "cell_type": "code",
   "execution_count": 48,
   "metadata": {},
   "outputs": [
    {
     "name": "stderr",
     "output_type": "stream",
     "text": [
      "c:\\Users\\ASUS\\AppData\\Local\\Programs\\Python\\Python38\\lib\\site-packages\\sklearn\\ensemble\\_base.py:166: FutureWarning: `base_estimator` was renamed to `estimator` in version 1.2 and will be removed in 1.4.\n",
      "  warnings.warn(\n"
     ]
    }
   ],
   "source": [
    "model = DecisionTreeRegressor()\n",
    "\n",
    "# Khởi tạo một Bagging Regressor với 10 mô hình Decision Tree\n",
    "bagging = BaggingRegressor(base_estimator=model, n_estimators=10)\n",
    "\n",
    "# Huấn luyện mô hình với dữ liệu huấn luyện X_train, y_train\n",
    "bagging.fit(X_train, y_train)\n",
    "\n",
    "# Dự đoán giá trị y cho dữ liệu kiểm tra X_test\n",
    "y_pred = bagging.predict(X_test)"
   ]
  },
  {
   "cell_type": "code",
   "execution_count": 49,
   "metadata": {},
   "outputs": [
    {
     "name": "stdout",
     "output_type": "stream",
     "text": [
      "R-squared: 0.8990573519264317\n"
     ]
    }
   ],
   "source": [
    "from sklearn.metrics import r2_score, mean_absolute_error, mean_absolute_percentage_error\n",
    "from sklearn.metrics import mean_squared_error\n",
    "import numpy as np\n",
    "# compute R-squared\n",
    "r2 = r2_score(y_test, y_pred)\n",
    "\n",
    "print(\"R-squared:\", r2)"
   ]
  }
 ],
 "metadata": {
  "kernelspec": {
   "display_name": "Python 3",
   "language": "python",
   "name": "python3"
  },
  "language_info": {
   "codemirror_mode": {
    "name": "ipython",
    "version": 3
   },
   "file_extension": ".py",
   "mimetype": "text/x-python",
   "name": "python",
   "nbconvert_exporter": "python",
   "pygments_lexer": "ipython3",
   "version": "3.8.8"
  },
  "orig_nbformat": 4
 },
 "nbformat": 4,
 "nbformat_minor": 2
}
