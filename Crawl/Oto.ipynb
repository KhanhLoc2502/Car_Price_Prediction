{
 "cells": [
  {
   "cell_type": "code",
   "execution_count": 15,
   "id": "ada30c29-0639-46d7-85b6-754e3eee1b70",
   "metadata": {},
   "outputs": [],
   "source": [
    "import requests\n",
    "import re\n",
    "from bs4 import BeautifulSoup\n",
    "import pandas as pd"
   ]
  },
  {
   "cell_type": "code",
   "execution_count": 16,
   "id": "c7bf79e4-8d68-42a3-a22a-8ff9ffe6b724",
   "metadata": {},
   "outputs": [],
   "source": [
    "list_ = []\n",
    "tieude = []\n",
    "dongia = []\n",
    "nguoiban = []\n",
    "diachinguoiban = []\n",
    "sdtnguoiban = []\n",
    "loaixe = []\n",
    "tinhtrangxe = []\n",
    "nhienlieu = []\n",
    "quangduong = []\n",
    "for i in range(100):\n",
    "    url = \"https://oto.com.vn/mua-ban-xe/p\" + str(i+1)\n",
    "    html_doc = requests.get(url)\n",
    "    soup = BeautifulSoup(html_doc.content,\"html.parser\")\n",
    "    for i in soup.find_all(class_ = [\"info\"]):\n",
    "        TieuDe = i.find(class_ = [\"car-name\"]).text\n",
    "        tieude.append(TieuDe)\n",
    "        DonGia = i.find(\"p\",class_=\"price\").text\n",
    "        dongia.append(DonGia)\n",
    "        NguoiBan = i.find(\"li\",class_=\"seller-name\").text\n",
    "        nguoiban.append(NguoiBan)\n",
    "        DiaChiNguoiBan = i.find(\"li\",class_=\"seller-location\").text\n",
    "        diachinguoiban.append(DiaChiNguoiBan)\n",
    "        SDTNguoiBan = i.find(\"li\",class_=\"seller-phone\").text\n",
    "        sdtnguoiban.append(SDTNguoiBan)\n",
    "        a = i.find('a').get('href')\n",
    "        link = \"https://oto.com.vn/\" + a\n",
    "        list_.append(link)\n",
    "    for j in soup.find_all('ul', class_='tag-list'):\n",
    "        k = j.find_all('li')\n",
    "        if k is not None and len(k) == 2:\n",
    "            loaixe.append(k[0].text)\n",
    "            tinhtrangxe.append(k[1].text)\n",
    "            nhienlieu.append(\"None\")\n",
    "            quangduong.append(\"None\")\n",
    "        if k is not None and len(k) == 3:\n",
    "            loaixe.append(k[0].text)\n",
    "            tinhtrangxe.append(k[1].text)\n",
    "            nhienlieu.append(k[2].text)\n",
    "            quangduong.append(\"None\")\n",
    "        if k is not None and len(k) == 4:\n",
    "            loaixe.append(k[0].text)\n",
    "            tinhtrangxe.append(k[1].text)\n",
    "            nhienlieu.append(k[2].text)\n",
    "            quangduong.append(k[3].text) \n"
   ]
  },
  {
   "cell_type": "code",
   "execution_count": 17,
   "id": "a8530d71-1140-4adb-adc9-7e2c9b96285c",
   "metadata": {},
   "outputs": [],
   "source": [
    "df1=pd.DataFrame({'Tên Xe':tieude,\n",
    "                 'Đơn giá':dongia,\n",
    "                 'Người Bán':nguoiban,\n",
    "                 'Địa chỉ người bán':diachinguoiban,\n",
    "                 'SĐT người bán':sdtnguoiban,\n",
    "                 'Loại xe': loaixe,\n",
    "                 'Tình trạng xe': tinhtrangxe,\n",
    "                 'Nhiên liệu': nhienlieu,\n",
    "                  'Quãng đường': quangduong,\n",
    "                 'Link xe':list_\n",
    "                 } )"
   ]
  },
  {
   "cell_type": "code",
   "execution_count": 18,
   "id": "c91583a7-3c7a-4b24-b3cb-32fdd8ecfca5",
   "metadata": {},
   "outputs": [],
   "source": [
    "df1.to_csv('oto.csv')"
   ]
  },
  {
   "cell_type": "code",
   "execution_count": 65,
   "id": "672534ef-4ec6-48c8-bc91-4bd5db1755d8",
   "metadata": {},
   "outputs": [],
   "source": [
    "Namsx= []\n",
    "Kieudang = []\n",
    "Tinhtrang = []\n",
    "Xuatxu = []\n",
    "Tinhthanh = []\n",
    "Quanhuyen = []\n",
    "Hopso = []\n",
    "Nhienlieu = []\n",
    "Km = []\n",
    "Tenxe = []\n",
    "for link in range(len(list_)):\n",
    "    html_doc = requests.get(list_[link])\n",
    "    soup = BeautifulSoup(html_doc.content,\"html.parser\")\n",
    "    for i in soup.find_all(class_ = [\"group-title-detail\"]):\n",
    "        tenxe = i.text\n",
    "    for li in soup.find_all(class_ =[\"box-info-detail\"]):\n",
    "        if li is not None and len(li.find_all('li')) == 8:\n",
    "            Namsx.append(li.find_all('li')[0].text)\n",
    "            Kieudang.append(li.find_all('li')[1].text)\n",
    "            Tinhtrang.append(li.find_all('li')[2].text)\n",
    "            Xuatxu.append(li.find_all('li')[3].text)\n",
    "            Tinhthanh.append(li.find_all('li')[4].text)\n",
    "            Quanhuyen.append(li.find_all('li')[5].text)\n",
    "            Hopso.append(li.find_all('li')[6].text)\n",
    "            Nhienlieu.append(li.find_all('li')[7].text)\n",
    "            Km.append(\"None\")\n",
    "            Tenxe.append(tenxe)\n",
    "        if li is not None and len(li.find_all('li')) == 9:\n",
    "            Namsx.append(li.find_all('li')[0].text)\n",
    "            Kieudang.append(li.find_all('li')[1].text)\n",
    "            Tinhtrang.append(li.find_all('li')[2].text)\n",
    "            Xuatxu.append(li.find_all('li')[3].text)\n",
    "            Km.append(li.find_all('li')[4].text)\n",
    "            Tinhthanh.append(li.find_all('li')[5].text)\n",
    "            Quanhuyen.append(li.find_all('li')[6].text)\n",
    "            Hopso.append(li.find_all('li')[7].text)\n",
    "            Nhienlieu.append(li.find_all('li')[8].text)\n",
    "            Tenxe.append(tenxe)"
   ]
  },
  {
   "cell_type": "code",
   "execution_count": 71,
   "id": "4a42c8df-569f-4943-81ab-528db3dca30a",
   "metadata": {},
   "outputs": [],
   "source": [
    "df2=pd.DataFrame({'Tên xe': Tenxe,\n",
    "                 'Năm SX':Namsx,\n",
    "                 'Kiểu dáng':Kieudang,\n",
    "                 'Tình trạng':Tinhtrang,\n",
    "                 'Xuất xứ':Xuatxu,\n",
    "                 'Tỉnh thành': Tinhthanh,\n",
    "                  'Km đã đi': Km,\n",
    "                 'Quận huyện':Quanhuyen,\n",
    "                  'Hộp số': Hopso,\n",
    "                  'Nhiên liệu': Nhienlieu\n",
    "                 } )"
   ]
  },
  {
   "cell_type": "code",
   "execution_count": 72,
   "id": "ee9e505b-3ea3-4a90-9414-e7d576f2ec49",
   "metadata": {},
   "outputs": [],
   "source": [
    "df2.to_csv('detail_oto.csv')"
   ]
  },
  {
   "cell_type": "code",
   "execution_count": null,
   "id": "ba642ed1-e613-4915-83e0-48fbeda8a127",
   "metadata": {},
   "outputs": [],
   "source": []
  }
 ],
 "metadata": {
  "kernelspec": {
   "display_name": "Python 3 (ipykernel)",
   "language": "python",
   "name": "python3"
  },
  "language_info": {
   "codemirror_mode": {
    "name": "ipython",
    "version": 3
   },
   "file_extension": ".py",
   "mimetype": "text/x-python",
   "name": "python",
   "nbconvert_exporter": "python",
   "pygments_lexer": "ipython3",
   "version": "3.9.13"
  }
 },
 "nbformat": 4,
 "nbformat_minor": 5
}
